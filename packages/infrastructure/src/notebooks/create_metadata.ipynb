{
 "cells": [
  {
   "cell_type": "code",
   "execution_count": null,
   "id": "6a0d6673",
   "metadata": {},
   "outputs": [],
   "source": [
    "%pip install -U opensearch-py==2.3.1\n",
    "%pip install -U boto3==1.33.2\n",
    "%pip install -U retrying==1.3.4"
   ]
  },
  {
   "cell_type": "code",
   "execution_count": null,
   "id": "fba91cf4",
   "metadata": {},
   "outputs": [],
   "source": [
    "from IPython.core.display import HTML\n",
    "HTML(\"<script>Jupyter.notebook.kernel.restart()</script>\")"
   ]
  },
  {
   "cell_type": "code",
   "execution_count": null,
   "id": "a8d9bac7",
   "metadata": {},
   "outputs": [],
   "source": [
    "import warnings\n",
    "warnings.filterwarnings('ignore')"
   ]
  },
  {
   "cell_type": "code",
   "execution_count": null,
   "id": "ebf200a1",
   "metadata": {},
   "outputs": [],
   "source": [
    "import boto3\n",
    "import pprint\n",
    "import random\n",
    "\n",
    "suffix = random.randrange(200, 900)\n",
    "\n",
    "sts_client = boto3.client('sts')\n",
    "\n",
    "boto3_session = boto3.session.Session()\n",
    "region_name = boto3_session.region_name\n",
    "pp = pprint.PrettyPrinter(indent=2)\n",
    "# Get the current AWS account id\n",
    "account_id=sts_client.get_caller_identity().get('Account')\n",
    "# Set the Glue Database name\n",
    "database_name=\"snowflake\""
   ]
  },
  {
   "cell_type": "markdown",
   "source": [
    "Here we pull the snowflake table metadata, be sure to run the crawler first"
   ],
   "metadata": {
    "collapsed": false
   },
   "id": "9e798d64096044c1"
  },
  {
   "cell_type": "code",
   "execution_count": null,
   "id": "02bc4a06",
   "metadata": {},
   "outputs": [],
   "source": [
    "import json\n",
    "\n",
    "glue_client=boto3.client(\"glue\")\n",
    "response = glue_client.get_tables(\n",
    "    CatalogId=account_id,\n",
    "    DatabaseName=database_name,\n",
    ")\n",
    "snowflake_tables=response[\"TableList\"]\n",
    "print(json.dumps(snowflake_tables, indent=4, sort_keys=True, default=str))"
   ]
  },
  {
   "cell_type": "markdown",
   "source": [
    "Here we setup the vector store\n",
    "Enter the Opensearch serverless node hostname"
   ],
   "metadata": {
    "collapsed": false
   },
   "id": "791255e6504c066b"
  },
  {
   "cell_type": "code",
   "execution_count": null,
   "id": "eb48dab5",
   "metadata": {},
   "outputs": [],
   "source": [
    "from opensearchpy import OpenSearch, RequestsHttpConnection, AWSV4SignerAuth\n",
    "import time\n",
    "credentials = boto3.Session().get_credentials()\n",
    "awsauth = AWSV4SignerAuth(credentials, region_name, \"aoss\")\n",
    "aoss_node=\"mey2dta082iatb0w5x43.us-east-1.aoss.amazonaws.com\"\n",
    "index_name = \"snowflake\"\n",
    "body_json = {\n",
    "    \"settings\": {\n",
    "        \"index.knn\": \"true\",\n",
    "        \"number_of_shards\": 1,\n",
    "        \"knn.algo_param.ef_search\": 512,\n",
    "        \"number_of_replicas\": 0,\n",
    "    },\n",
    "    \"mappings\": {\n",
    "        \"properties\": {\n",
    "            \"vector\": {\n",
    "                \"type\": \"knn_vector\",\n",
    "                \"dimension\": 1536,\n",
    "                \"method\": {\n",
    "                    \"name\": \"hnsw\",\n",
    "                    \"engine\": \"faiss\"\n",
    "                },\n",
    "            },\n",
    "            \"text\": {\n",
    "                \"type\": \"text\"\n",
    "            },\n",
    "            \"text-metadata\": {\n",
    "                \"type\": \"text\"         }\n",
    "        }\n",
    "    }\n",
    "}\n",
    "# Build the OpenSearch client\n",
    "oss_client = OpenSearch(\n",
    "    hosts=[{'host': aoss_node, 'port': 443}],\n",
    "    http_auth=awsauth,\n",
    "    use_ssl=True,\n",
    "    verify_certs=True,\n",
    "    connection_class=RequestsHttpConnection,\n",
    "    timeout=300\n",
    ")\n",
    "\n",
    "# Create index\n",
    "response = oss_client.indices.create(index=index_name, body=json.dumps(body_json))\n",
    "\n",
    "print('\\nCreating index:')\n",
    "print(response)\n",
    "time.sleep(5) # index creation can take up to a minute"
   ]
  },
  {
   "cell_type": "markdown",
   "source": [
    "After this we need to take the table metadata, run it through titan, and then store the embeddings in the vector store "
   ],
   "metadata": {
    "collapsed": false
   },
   "id": "104728fdffd95a9b"
  }
 ],
 "metadata": {
  "kernelspec": {
   "display_name": "conda_python3",
   "language": "python",
   "name": "conda_python3"
  },
  "language_info": {
   "codemirror_mode": {
    "name": "ipython",
    "version": 3
   },
   "file_extension": ".py",
   "mimetype": "text/x-python",
   "name": "python",
   "nbconvert_exporter": "python",
   "pygments_lexer": "ipython3",
   "version": "3.10.13"
  }
 },
 "nbformat": 4,
 "nbformat_minor": 5
}
